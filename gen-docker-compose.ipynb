{
 "cells": [
  {
   "cell_type": "code",
   "execution_count": 7,
   "metadata": {},
   "outputs": [
    {
     "data": {
      "text/plain": [
       "'version: \\'3.8\\'\\nservices:\\n  server1:\\n    build: &id001\\n      context: .\\n      dockerfile: ./server/Dockerfile\\n    networks: &id002\\n    - mynetwork\\n    command: &id003\\n    - bash -c \"go run *.go\"\\n    tty: &id004\\n    - \\'true\\'\\n    ports:\\n    - 50051:50051\\n  server2:\\n    build: *id001\\n    networks: *id002\\n    command: *id003\\n    tty: *id004\\n    ports:\\n    - 50052:50052\\n  server3:\\n    build: *id001\\n    networks: *id002\\n    command: *id003\\n    tty: *id004\\n    ports:\\n    - 50053:50053\\n  server4:\\n    build: *id001\\n    networks: *id002\\n    command: *id003\\n    tty: *id004\\n    ports:\\n    - 50054:50054\\n  server5:\\n    build: *id001\\n    networks: *id002\\n    command: *id003\\n    tty: *id004\\n    ports:\\n    - 50055:50055\\n  server6:\\n    build: *id001\\n    networks: *id002\\n    command: *id003\\n    tty: *id004\\n    ports:\\n    - 50056:50056\\n  client:\\n    build:\\n      context: .\\n      dockerfile: ./client/Dockerfile\\n    ports:\\n    - 50057:50057\\n    depends_on:\\n    - server1\\n    - server2\\n    - server3\\n    - server4\\n    - server5\\n    - server6\\n    networks:\\n    - mynetwork\\n    environment:\\n    - ADDR=server1:50051\\nnetworks:\\n  mynetwork: {}\\n'"
      ]
     },
     "execution_count": 7,
     "metadata": {},
     "output_type": "execute_result"
    }
   ],
   "source": [
    "# Let's create a Python script that will generate the docker-compose.yml configuration.\n",
    "# This script will automate the creation of services for multiple server instances.\n",
    "\n",
    "# Define the number of server instances and the starting port number\n",
    "num_servers = 6\n",
    "start_port = 50051\n",
    "\n",
    "# The base configuration for docker-compose.yml\n",
    "base_config = {\n",
    "    'version': '3.8',\n",
    "    'services': {\n",
    "        # Placeholder for server configurations\n",
    "    },\n",
    "    'networks': {\n",
    "        'mynetwork': {}\n",
    "    }\n",
    "}\n",
    "\n",
    "# The template for server services\n",
    "server_service_template = {\n",
    "    'build': {\n",
    "        'context': '.',\n",
    "        'dockerfile': './server/Dockerfile'\n",
    "    },\n",
    "    'networks': ['mynetwork'],\n",
    "    'command': ['bash -c \"go run *.go\"'],\n",
    "    'tty': ['true']\n",
    "}\n",
    "\n",
    "# The template for the client service\n",
    "client_service_template = {\n",
    "    'build': {\n",
    "        'context': '.',\n",
    "        'dockerfile': './client/Dockerfile'\n",
    "    },\n",
    "    'ports': ['50057:50057'],\n",
    "    'depends_on': [],\n",
    "    'networks': ['mynetwork'],\n",
    "    'environment': ['ADDR=server1:50051']\n",
    "}\n",
    "\n",
    "# Generate the server service configurations\n",
    "for i in range(num_servers):\n",
    "    service_name = f'server{i+1}'\n",
    "    service_config = server_service_template.copy()\n",
    "    service_config['ports'] = [f'{start_port+i}:{start_port+i}']\n",
    "    base_config['services'][service_name] = service_config.copy()\n",
    "    client_service_template['depends_on'].append(service_name)\n",
    "\n",
    "# Add the client service configuration\n",
    "base_config['services']['client'] = client_service_template\n",
    "\n",
    "# Using PyYAML to output the generated configuration as YAML\n",
    "import yaml\n",
    "\n",
    "# Generate the docker-compose.yml content\n",
    "docker_compose_content = yaml.dump(base_config, sort_keys=False)\n",
    "\n",
    "# Write the content to a file\n",
    "with open('docker-compose-new.yml', 'w') as file:\n",
    "    file.write(docker_compose_content)\n",
    "\n",
    "# Return the path of the created file\n",
    "docker_compose_content\n"
   ]
  },
  {
   "cell_type": "code",
   "execution_count": null,
   "metadata": {},
   "outputs": [],
   "source": []
  },
  {
   "cell_type": "code",
   "execution_count": null,
   "metadata": {},
   "outputs": [],
   "source": []
  }
 ],
 "metadata": {
  "kernelspec": {
   "display_name": "Python 3",
   "language": "python",
   "name": "python3"
  },
  "language_info": {
   "codemirror_mode": {
    "name": "ipython",
    "version": 3
   },
   "file_extension": ".py",
   "mimetype": "text/x-python",
   "name": "python",
   "nbconvert_exporter": "python",
   "pygments_lexer": "ipython3",
   "version": "3.8.15"
  }
 },
 "nbformat": 4,
 "nbformat_minor": 2
}
