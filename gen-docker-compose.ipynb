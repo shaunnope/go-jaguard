{
 "cells": [
  {
   "cell_type": "code",
   "execution_count": 1,
   "metadata": {},
   "outputs": [
    {
     "data": {
      "text/plain": [
       "('version: 3.8\\nservices:\\n  server-0: {\\'image\\': \\'zookeeper_server:latest\\', \\'ports\\': [\\'50051:50051\\'], \\'networks\\': [\\'mynetwork\\'], \\'command\\': \\'bash -c \"go run *.go\"\\', \\'tty\\': True, \\'environment\\': [\\'PORT=50051\\', \\'ID=0\\']}\\n  server-1: {\\'image\\': \\'zookeeper_server:latest\\', \\'ports\\': [\\'50052:50052\\'], \\'networks\\': [\\'mynetwork\\'], \\'command\\': \\'bash -c \"go run *.go\"\\', \\'tty\\': True, \\'environment\\': [\\'PORT=50052\\', \\'ID=1\\'], \\'depends_on\\': [\\'server-0\\']}\\n  server-2: {\\'image\\': \\'zookeeper_server:latest\\', \\'ports\\': [\\'50053:50053\\'], \\'networks\\': [\\'mynetwork\\'], \\'command\\': \\'bash -c \"go run *.go\"\\', \\'tty\\': True, \\'environment\\': [\\'PORT=50053\\', \\'ID=2\\'], \\'depends_on\\': [\\'server-0\\']}\\n  server-3: {\\'image\\': \\'zookeeper_server:latest\\', \\'ports\\': [\\'50054:50054\\'], \\'networks\\': [\\'mynetwork\\'], \\'command\\': \\'bash -c \"go run *.go\"\\', \\'tty\\': True, \\'environment\\': [\\'PORT=50054\\', \\'ID=3\\'], \\'depends_on\\': [\\'server-0\\']}\\n  server-4: {\\'image\\': \\'zookeeper_server:latest\\', \\'ports\\': [\\'50055:50055\\'], \\'networks\\': [\\'mynetwork\\'], \\'command\\': \\'bash -c \"go run *.go\"\\', \\'tty\\': True, \\'environment\\': [\\'PORT=50055\\', \\'ID=4\\'], \\'depends_on\\': [\\'server-0\\']}\\n  server-5: {\\'image\\': \\'zookeeper_server:latest\\', \\'ports\\': [\\'50056:50056\\'], \\'networks\\': [\\'mynetwork\\'], \\'command\\': \\'bash -c \"go run *.go\"\\', \\'tty\\': True, \\'environment\\': [\\'PORT=50056\\', \\'ID=5\\'], \\'depends_on\\': [\\'server-0\\']}\\n  client: {\\'build\\': {\\'context\\': \\'.\\', \\'dockerfile\\': \\'./client/Dockerfile\\'}, \\'image\\': \\'zookeeper_client:latest\\', \\'ports\\': [\\'50057:50057\\'], \\'networks\\': [\\'mynetwork\\'], \\'tty\\': True, \\'environment\\': [\\'SERVER_0_ADDR=server-0:50051\\', \\'SERVER_1_ADDR=server-1:50052\\', \\'SERVER_2_ADDR=server-2:50053\\', \\'SERVER_3_ADDR=server-3:50054\\', \\'SERVER_4_ADDR=server-4:50055\\', \\'SERVER_5_ADDR=server-5:50056\\']}\\nnetworks:\\n',\n",
       " '{\\n    \"servers\": [\\n        {\\n            \"host\": \"server-0\",\\n            \"port\": 50051\\n        },\\n        {\\n            \"host\": \"server-1\",\\n            \"port\": 50052\\n        },\\n        {\\n            \"host\": \"server-2\",\\n            \"port\": 50053\\n        },\\n        {\\n            \"host\": \"server-3\",\\n            \"port\": 50054\\n        },\\n        {\\n            \"host\": \"server-4\",\\n            \"port\": 50055\\n        },\\n        {\\n            \"host\": \"server-5\",\\n            \"port\": 50056\\n        }\\n    ]\\n}')"
      ]
     },
     "execution_count": 1,
     "metadata": {},
     "output_type": "execute_result"
    }
   ],
   "source": [
    "import json\n",
    "\n",
    "def generate_docker_compose_and_config(num_servers):\n",
    "    base_port = 50051\n",
    "    docker_compose = {\n",
    "        'version': '3.8',\n",
    "        'services': {},\n",
    "        'networks': {\n",
    "            'mynetwork': None\n",
    "        }\n",
    "    }\n",
    "\n",
    "    config = {\n",
    "        'servers': []\n",
    "    }\n",
    "\n",
    "    # Generate server configurations\n",
    "    for i in range(num_servers):\n",
    "        server_name = f'server-{i}'\n",
    "        port = base_port + i\n",
    "\n",
    "        docker_compose['services'][server_name] = {\n",
    "            'image': 'zookeeper_server:latest',\n",
    "            'ports': [f\"{port}:{port}\"],\n",
    "            'networks': ['mynetwork'],\n",
    "            'command': 'bash -c \"go run *.go\"',\n",
    "            'tty': True,\n",
    "            'environment': [f'PORT={port}', f'ID={i}']\n",
    "        }\n",
    "\n",
    "        if i != 0:  # For servers other than the first one, add a dependency on server-0\n",
    "            docker_compose['services'][server_name]['depends_on'] = ['server-0']\n",
    "        \n",
    "        config['servers'].append({'host': server_name, 'port': port})\n",
    "\n",
    "    # Generate client configuration\n",
    "    client_env = [f'SERVER_{i}_ADDR=server-{i}:{base_port + i}' for i in range(num_servers)]\n",
    "    docker_compose['services']['client'] = {\n",
    "        'build': {\n",
    "            'context': '.',\n",
    "            'dockerfile': './client/Dockerfile'\n",
    "        },\n",
    "        'image': 'zookeeper_client:latest',\n",
    "        'ports': ['50057:50057'],\n",
    "        'networks': ['mynetwork'],\n",
    "        'tty': True,\n",
    "        'environment': client_env\n",
    "    }\n",
    "\n",
    "    # Convert docker-compose to YAML format\n",
    "    docker_compose_yaml = convert_to_yaml(docker_compose)\n",
    "\n",
    "    return docker_compose_yaml, json.dumps(config, indent=4)\n",
    "\n",
    "\n",
    "def convert_to_yaml(docker_compose_dict):\n",
    "    \"\"\"\n",
    "    Convert the Docker Compose dictionary to a YAML-formatted string.\n",
    "    This is a simplified converter for demonstration purposes.\n",
    "    \"\"\"\n",
    "    def convert_item(key, value):\n",
    "        if isinstance(value, dict):\n",
    "            return f\"{key}:\\n\" + \"\\n\".join([f\"  {k}: {v}\" for k, v in value.items() if v is not None])\n",
    "        elif isinstance(value, list):\n",
    "            return f\"{key}:\\n\" + \"\\n\".join([f\"  - {v}\" for v in value])\n",
    "        else:\n",
    "            return f\"{key}: {value}\"\n",
    "\n",
    "    lines = []\n",
    "    for key, value in docker_compose_dict.items():\n",
    "        lines.append(convert_item(key, value))\n",
    "\n",
    "    return \"\\n\".join(lines)\n",
    "\n",
    "\n",
    "# Example usage\n",
    "num_servers = 6  # number of servers\n",
    "docker_compose_yaml, config_json = generate_docker_compose_and_config(num_servers)\n",
    "\n",
    "# Output the generated files\n",
    "docker_compose_yaml, config_json\n",
    "\n"
   ]
  },
  {
   "cell_type": "code",
   "execution_count": null,
   "metadata": {},
   "outputs": [],
   "source": [
    "def save_to_file(filename, content):\n",
    "    with open(filename, 'w') as file:\n",
    "        file.write(content)\n",
    "\n",
    "# Saving the generated Docker Compose YAML and Config JSON to files\n",
    "docker_compose_filename = './docker-compose.yml'\n",
    "config_json_filename = './server/config.json'\n",
    "\n",
    "docker_compose_yaml, config_json = generate_docker_compose_and_config(6)\n",
    "\n",
    "save_to_file(docker_compose_filename, docker_compose_yaml)\n",
    "save_to_file(config_json_filename, config_json)\n",
    "\n",
    "docker_compose_filename, config_json_filename\n",
    "\n"
   ]
  },
  {
   "cell_type": "code",
   "execution_count": null,
   "metadata": {},
   "outputs": [],
   "source": []
  }
 ],
 "metadata": {
  "kernelspec": {
   "display_name": "Python 3",
   "language": "python",
   "name": "python3"
  },
  "language_info": {
   "codemirror_mode": {
    "name": "ipython",
    "version": 3
   },
   "file_extension": ".py",
   "mimetype": "text/x-python",
   "name": "python",
   "nbconvert_exporter": "python",
   "pygments_lexer": "ipython3",
   "version": "3.8.15"
  }
 },
 "nbformat": 4,
 "nbformat_minor": 2
}
